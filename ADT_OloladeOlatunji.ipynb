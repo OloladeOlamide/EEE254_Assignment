{
 "cells": [
  {
   "cell_type": "code",
   "execution_count": 1,
   "id": "9e490b79-b8f0-4bd4-9068-08bbb664fa35",
   "metadata": {},
   "outputs": [],
   "source": [
    "class Person(object):  \n",
    "    # We are creating a blueprint (class) for a person.\n",
    "\n",
    "    def __init__(self, name):  \n",
    "        \"\"\"Assumes name a string. Create a person\"\"\"\n",
    "        # This special method runs when we create a new Person.\n",
    "        self._name = name  # Store the full name in a variable.\n",
    "        try:\n",
    "            last_blank = name.rindex(' ')  # Try to find the last space in the name.\n",
    "            self._last_name = name[last_blank+1:]  # Save everything after that space as the last name.\n",
    "        except:\n",
    "            self._last_name = name  # If there's no space, use the full name as the last name.\n",
    "        self._birthday = None  # We don’t know the birthday yet, so we set it to None.\n",
    "\n",
    "    def get_name(self):\n",
    "        \"\"\"Returns self's full name\"\"\"\n",
    "        return self._name  # Returns the person's full name.\n",
    "\n",
    "    def get_last_name(self):\n",
    "        \"\"\"Returns self's last name\"\"\"\n",
    "        return self._last_name  # Returns the person's last name.\n",
    "\n",
    "    def set_birthday(self, birthdate):\n",
    "        \"\"\"Assumes birthdate is of type datetime.date\n",
    "        Sets self's birthday to birthdate\"\"\"\n",
    "        self._birthday = birthdate  # Sets the person’s birthday.\n",
    "\n",
    "    def get_age(self):\n",
    "        \"\"\"Returns self's current age in days\"\"\"\n",
    "        if self._birthday == None:\n",
    "            raise ValueError  # If the birthday is not set, show an error.\n",
    "        return (datetime.date.today() - self._birthday).days  # Calculate how many days old the person is.\n",
    "\n",
    "    def __lt__(self, other):\n",
    "        \"\"\"Assume other is a Person\n",
    "        Returns True if self comes before other in alphabetical order, otherwise False.\n",
    "        First compares last names. If those are the same, compares full names.\"\"\"\n",
    "        if self._last_name == other._last_name:\n",
    "            return self._name < other._name  # If same last name, compare full names.\n",
    "        return self._last_name < other._last_name  # Compare last names.\n",
    "\n",
    "    def __str__(self):\n",
    "        \"\"\"Returns self's name\"\"\"\n",
    "        return self._name  # When we print the person, show their full name.\n"
   ]
  },
  {
   "cell_type": "code",
   "execution_count": null,
   "id": "eff74767-5c5a-4300-9bf8-8d329c6e6782",
   "metadata": {},
   "outputs": [],
   "source": []
  }
 ],
 "metadata": {
  "kernelspec": {
   "display_name": "Python [conda env:base] *",
   "language": "python",
   "name": "conda-base-py"
  },
  "language_info": {
   "codemirror_mode": {
    "name": "ipython",
    "version": 3
   },
   "file_extension": ".py",
   "mimetype": "text/x-python",
   "name": "python",
   "nbconvert_exporter": "python",
   "pygments_lexer": "ipython3",
   "version": "3.12.7"
  }
 },
 "nbformat": 4,
 "nbformat_minor": 5
}
