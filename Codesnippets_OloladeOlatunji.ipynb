{
 "cells": [
  {
   "cell_type": "code",
   "execution_count": 52,
   "id": "07f0d745-092d-4d20-b36f-4c9b7468b512",
   "metadata": {},
   "outputs": [],
   "source": [
    "def get_first_items(my_list):\n",
    "    print(my_list[0])        # This just prints the very first item in the list\n"
   ]
  },
  {
   "cell_type": "code",
   "execution_count": 54,
   "id": "72c22025-a54a-406b-a53c-73c5db5bd1a9",
   "metadata": {},
   "outputs": [
    {
     "name": "stdout",
     "output_type": "stream",
     "text": [
      "10\n"
     ]
    }
   ],
   "source": [
    "my_numbers = [10, 20, 30, 40, 50]\n",
    "get_first_items(my_numbers)"
   ]
  },
  {
   "cell_type": "code",
   "execution_count": 4,
   "id": "3d5be084-7e5e-4ef3-814a-dad528592665",
   "metadata": {},
   "outputs": [],
   "source": [
    "def binary_search(arr, target):\n",
    "    low = 0\n",
    "    high = len(arr) - 1\n",
    "    while low <= high:\n",
    "        mid = (low + high) // 2\n",
    "        if arr[mid] == target:\n",
    "            return mid\n",
    "        elif arr[mid] < target:\n",
    "            low = mid + 1\n",
    "        else:\n",
    "            high = mid - 1\n",
    "    return -1\n"
   ]
  },
  {
   "cell_type": "code",
   "execution_count": 32,
   "id": "c7581a75-b4ea-4d0d-acf5-774c35b8146d",
   "metadata": {},
   "outputs": [
    {
     "data": {
      "text/plain": [
       "5"
      ]
     },
     "execution_count": 32,
     "metadata": {},
     "output_type": "execute_result"
    }
   ],
   "source": [
    "Lolade = [1, 3, 5, 7, 9, 10, 12, 15]\n",
    "binary_search(Lolade,10)"
   ]
  },
  {
   "cell_type": "code",
   "execution_count": 6,
   "id": "c2f04c49-ab2d-48ee-8943-82068b467034",
   "metadata": {},
   "outputs": [],
   "source": [
    "def print_all_items(items):\n",
    "    for item in items:\n",
    "        print(item)  # Goes through everything once\n"
   ]
  },
  {
   "cell_type": "code",
   "execution_count": 46,
   "id": "5f8f5e84-b901-431c-8780-68b5aba1df22",
   "metadata": {},
   "outputs": [
    {
     "name": "stdout",
     "output_type": "stream",
     "text": [
      "1\n",
      "2\n",
      "3\n",
      "4\n",
      "5\n"
     ]
    }
   ],
   "source": [
    "my_numbers = [1, 2, 3, 4, 5]\n",
    "print_all_items(my_numbers)\n"
   ]
  },
  {
   "cell_type": "code",
   "execution_count": 8,
   "id": "74b0c400-aa80-4a59-9a0e-b0d8368001f7",
   "metadata": {},
   "outputs": [],
   "source": [
    "def merge_sort(arr):\n",
    "    if len(arr) > 1:\n",
    "        mid = len(arr) // 2\n",
    "        left = merge_sort(arr[:mid])\n",
    "        right = merge_sort(arr[mid:])\n",
    "        return merge(left, right)\n",
    "    return arr\n",
    "\n",
    "def merge(left, right):\n",
    "    result = []\n",
    "    while left and right:\n",
    "        if left[0] < right[0]:\n",
    "            result.append(left.pop(0))\n",
    "        else:\n",
    "            result.append(right.pop(0))\n",
    "    return result + left + right\n"
   ]
  },
  {
   "cell_type": "code",
   "execution_count": 44,
   "id": "157c3ea8-4b6b-4a72-a023-9f5de924ea6d",
   "metadata": {},
   "outputs": [
    {
     "name": "stdout",
     "output_type": "stream",
     "text": [
      "Sorted List: [3, 9, 10, 27, 38, 43, 82]\n"
     ]
    }
   ],
   "source": [
    "unsorted_list = [38, 27, 43, 3, 9, 82, 10]\n",
    "sorted_list = merge_sort(unsorted_list)\n",
    "print(\"Sorted List:\", sorted_list)\n"
   ]
  },
  {
   "cell_type": "code",
   "execution_count": 22,
   "id": "b5f6cb64-731a-4c8c-ae97-667fef3b5c20",
   "metadata": {},
   "outputs": [],
   "source": [
    "def print_all_pairs(my_list):\n",
    "    for i in my_list:                   # Outer loop goes through each item\n",
    "        for j in my_list:               # Inner loop also goes through each item\n",
    "            print(i, j)                 # Print the pair\n",
    "            \n"
   ]
  },
  {
   "cell_type": "code",
   "execution_count": 24,
   "id": "94f44d45-a05b-4fd0-8c52-f449d6db9571",
   "metadata": {},
   "outputs": [
    {
     "name": "stdout",
     "output_type": "stream",
     "text": [
      "1 1\n",
      "1 2\n",
      "1 3\n",
      "2 1\n",
      "2 2\n",
      "2 3\n",
      "3 1\n",
      "3 2\n",
      "3 3\n"
     ]
    }
   ],
   "source": [
    "print_all_pairs([1, 2, 3])\n"
   ]
  },
  {
   "cell_type": "code",
   "execution_count": 40,
   "id": "bbef9b22-50cc-4983-8f58-0d46bf05adda",
   "metadata": {},
   "outputs": [],
   "source": [
    "def print_triplets(my_list):\n",
    "    for i in my_list:                      # First loop\n",
    "        for j in my_list:                  # Second loop\n",
    "            for k in my_list:              # Third loop\n",
    "                print(i, j, k)             # Print the triplet\n"
   ]
  },
  {
   "cell_type": "code",
   "execution_count": 42,
   "id": "5e42798d-e37e-4f63-b6f4-d978acbf85f9",
   "metadata": {},
   "outputs": [
    {
     "name": "stdout",
     "output_type": "stream",
     "text": [
      "1 1 1\n",
      "1 1 2\n",
      "1 2 1\n",
      "1 2 2\n",
      "2 1 1\n",
      "2 1 2\n",
      "2 2 1\n",
      "2 2 2\n"
     ]
    }
   ],
   "source": [
    "print_triplets([1, 2])\n"
   ]
  },
  {
   "cell_type": "code",
   "execution_count": null,
   "id": "f4f092fd-128e-4758-ad46-21e21c3af97e",
   "metadata": {},
   "outputs": [],
   "source": []
  }
 ],
 "metadata": {
  "kernelspec": {
   "display_name": "Python [conda env:base] *",
   "language": "python",
   "name": "conda-base-py"
  },
  "language_info": {
   "codemirror_mode": {
    "name": "ipython",
    "version": 3
   },
   "file_extension": ".py",
   "mimetype": "text/x-python",
   "name": "python",
   "nbconvert_exporter": "python",
   "pygments_lexer": "ipython3",
   "version": "3.12.7"
  }
 },
 "nbformat": 4,
 "nbformat_minor": 5
}
