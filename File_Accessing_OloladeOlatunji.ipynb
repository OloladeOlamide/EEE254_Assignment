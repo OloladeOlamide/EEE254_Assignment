{
 "cells": [
  {
   "cell_type": "code",
   "execution_count": 3,
   "id": "d2fada38-ca89-4332-9e0e-7a6ebe61780d",
   "metadata": {},
   "outputs": [
    {
     "name": "stdout",
     "output_type": "stream",
     "text": [
      "Total Power Read:  36 Watts\n"
     ]
    }
   ],
   "source": [
    "# Calculate total power used from file\n",
    "file = open('smart_readings.txt.txt', 'r')\n",
    "total_power = 0\n",
    "for line in file:\n",
    "    if \"Power\" in line:\n",
    "        power = int(line.split(\":\")[1].replace(\"W\", \"\").strip())\n",
    "        total_power += power\n",
    "file.close()\n",
    "\n",
    "print(\"Total Power Read: \", total_power, \"Watts\")\n"
   ]
  },
  {
   "cell_type": "code",
   "execution_count": 7,
   "id": "72710f75-6b84-4bbd-8157-511cf7749402",
   "metadata": {},
   "outputs": [],
   "source": [
    "file = open('smart_readings.txt.txt', 'r')  # open in read mode\n"
   ]
  },
  {
   "cell_type": "code",
   "execution_count": 9,
   "id": "047526ff-92b6-4e5e-9cff-95681a98f71b",
   "metadata": {},
   "outputs": [
    {
     "name": "stdout",
     "output_type": "stream",
     "text": [
      "Full file content:\n",
      "ï»¿Time: 09:00AM, Voltage: 231V, Current: 9.8A, Power: 2263W\n",
      "Time: 09:10AM, Voltage: 229V, Current: 10.2A, Power: 2335W\n",
      "Time: 09:20AM, Voltage: 230V, Current: 9.9A, Power: 2277W\n",
      "Time: 09:30AM, Voltage: 232V, Current: 10.1A, Power: 2343W\n"
     ]
    }
   ],
   "source": [
    "file = open('smart_readings.txt.txt', 'r')\n",
    "content = file.read()\n",
    "print(\"Full file content:\")\n",
    "print(content)\n",
    "file.close()\n"
   ]
  },
  {
   "cell_type": "code",
   "execution_count": 11,
   "id": "17bd6111-018c-43c7-9413-194d13e6d58a",
   "metadata": {},
   "outputs": [
    {
     "name": "stdout",
     "output_type": "stream",
     "text": [
      "All lines as a list:\n",
      "['ï»¿Time: 09:00AM, Voltage: 231V, Current: 9.8A, Power: 2263W\\n', 'Time: 09:10AM, Voltage: 229V, Current: 10.2A, Power: 2335W\\n', 'Time: 09:20AM, Voltage: 230V, Current: 9.9A, Power: 2277W\\n', 'Time: 09:30AM, Voltage: 232V, Current: 10.1A, Power: 2343W']\n"
     ]
    }
   ],
   "source": [
    "file = open('smart_readings.txt.txt', 'r')\n",
    "lines = file.readlines()\n",
    "print(\"All lines as a list:\")\n",
    "print(lines)\n",
    "file.close()\n"
   ]
  },
  {
   "cell_type": "code",
   "execution_count": 15,
   "id": "9b9d8ad8-d18c-44b4-ad8c-a5d2265cb5ff",
   "metadata": {},
   "outputs": [],
   "source": [
    "file = open('new_readings.txt', 'w')\n",
    "file.write(\"17.5\\n18.2\\n19.4\")\n",
    "file.close()\n"
   ]
  },
  {
   "cell_type": "code",
   "execution_count": 17,
   "id": "b375f82e-143a-4622-95e1-a0d3ad275747",
   "metadata": {},
   "outputs": [],
   "source": [
    "readings = ['20.1\\n', '21.3\\n', '22.8\\n']\n",
    "file = open('new_readings.txt', 'a')  # append mode\n",
    "file.writelines(readings)\n",
    "file.close()\n"
   ]
  },
  {
   "cell_type": "code",
   "execution_count": null,
   "id": "6b7bb594-d203-4d3e-af6f-ea27742cfee5",
   "metadata": {},
   "outputs": [],
   "source": []
  }
 ],
 "metadata": {
  "kernelspec": {
   "display_name": "Python [conda env:base] *",
   "language": "python",
   "name": "conda-base-py"
  },
  "language_info": {
   "codemirror_mode": {
    "name": "ipython",
    "version": 3
   },
   "file_extension": ".py",
   "mimetype": "text/x-python",
   "name": "python",
   "nbconvert_exporter": "python",
   "pygments_lexer": "ipython3",
   "version": "3.12.7"
  }
 },
 "nbformat": 4,
 "nbformat_minor": 5
}
