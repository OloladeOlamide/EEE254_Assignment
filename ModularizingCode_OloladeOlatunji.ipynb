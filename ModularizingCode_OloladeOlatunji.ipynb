{
 "cells": [
  {
   "cell_type": "code",
   "execution_count": 1,
   "id": "6115981b-b034-4038-aaf8-8b065eb7816a",
   "metadata": {},
   "outputs": [],
   "source": [
    "def within_epsilon(guess, number, power, epsilon): # Check if our guess is close enough to the answer\n",
    "\n",
    "    return abs(guess**power - number) < epsilon  # returns True if the guess is close enough\n",
    "\n",
    "\n",
    "def improve_guess(low, high): #get the middle point between the low and high to improve the guess\n",
    "    return (low + high) / 2  #return the average of the low and high\n",
    " \n",
    "\n",
    "def find_root(number, power, epsilon): # we are going to find the root of a number using the two previous functions\n",
    "    if number < 0 and power % 2 == 0:\n",
    "        return None  # we cannot find the even roots of negative numbers so nothing is returned\n",
    "\n",
    "    low = 0  # Set the range of values we’ll be guessing from. Low is set to zero\n",
    "    high = max(1, number)  #high is either 1 or the number, whichever is higher and in this case it is the number(25). \n",
    "    guess = improve_guess(low, high) # our first guess will be the average of the low and high\n",
    "\n",
    "    while not within_epsilon(guess, number, power, epsilon): # we keep improving the guess until it's \"close enough\"\n",
    "        if guess**power < number:\n",
    "            low = guess # if our guess is too small, we update the low end\n",
    "        else:\n",
    "            high = guess # if our guess is too big, we update the high end\n",
    "        guess = improve_guess(low, high)  # now we can get a new guess using the updated range\n",
    "\n",
    "\n",
    "    return guess  #When guess is good enough, we return it\n",
    "\n"
   ]
  },
  {
   "cell_type": "code",
   "execution_count": 3,
   "id": "c22010ba-261e-44ce-a91c-0b5a287c6083",
   "metadata": {},
   "outputs": [
    {
     "name": "stdout",
     "output_type": "stream",
     "text": [
      "The square root of 25 is roughly: 4.9999237060546875\n"
     ]
    }
   ],
   "source": [
    "result = find_root(25, 2, 0.001) # Try to find the square root of 25\n",
    "\n",
    "print(\"The square root of 25 is roughly:\", result)\n"
   ]
  },
  {
   "cell_type": "code",
   "execution_count": null,
   "id": "95bba531-6d27-46cb-87cd-288f58828cb4",
   "metadata": {},
   "outputs": [],
   "source": []
  }
 ],
 "metadata": {
  "kernelspec": {
   "display_name": "Python [conda env:base] *",
   "language": "python",
   "name": "conda-base-py"
  },
  "language_info": {
   "codemirror_mode": {
    "name": "ipython",
    "version": 3
   },
   "file_extension": ".py",
   "mimetype": "text/x-python",
   "name": "python",
   "nbconvert_exporter": "python",
   "pygments_lexer": "ipython3",
   "version": "3.12.7"
  }
 },
 "nbformat": 4,
 "nbformat_minor": 5
}
