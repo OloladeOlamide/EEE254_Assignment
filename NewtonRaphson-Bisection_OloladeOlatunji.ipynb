{
 "cells": [
  {
   "cell_type": "code",
   "execution_count": 2,
   "id": "514a10e9-9dfb-43e4-a513-101525cd0ad0",
   "metadata": {},
   "outputs": [
    {
     "name": "stdout",
     "output_type": "stream",
     "text": [
      "Newton-Raphson steps: 4\n",
      "Bisection steps: 18\n"
     ]
    }
   ],
   "source": [
    "import math  # We import the math module so we can use things like sin, cos, and exponential\n",
    "\n",
    "# Let's define the function f(x) = 4x + sin(x) - exp(x)\n",
    "def f(x):\n",
    "    return 4 * x + math.sin(x) - math.exp(x)\n",
    "\n",
    "# Let's define the derivative of f(x), which is f'(x) = 4 + cos(x) - exp(x)\n",
    "def f_prime(x):\n",
    "    return 4 + math.cos(x) - math.exp(x)\n",
    "\n",
    "# Now let us create the Newton-Raphson method\n",
    "def newton_raphson(f, f_prime, x0, tolerance, max_steps):\n",
    "    steps = 0  # Start counting steps\n",
    "    x = x0     #the initial guess is set as x0\n",
    "\n",
    "    while steps < max_steps:  # we keep trying until we reach the max number of steps\n",
    "        fx = f(x)             # Find the value of the function at x\n",
    "        fpx = f_prime(x)      # Find the value of the derivative at x\n",
    "\n",
    "        if fpx == 0:          # If the slope is zero, we can't continue \n",
    "            break\n",
    "\n",
    "        x_new = x - fx / fpx  # This is the Newton-Raphson formula\n",
    "\n",
    "        if abs(x_new - x) < tolerance:  # If the new guess is very close to the old one, stop!\n",
    "            return steps + 1            # Return how many steps it took\n",
    "\n",
    "        x = x_new   # Update x to the new guess\n",
    "        steps += 1  # Increase the number of steps\n",
    "\n",
    "    return steps  # If we hit max steps, return steps\n",
    "\n",
    "# Now let's create the Bisection method\n",
    "def bisection(f, a, b, tolerance, max_steps):\n",
    "    steps = 0  # Start counting steps\n",
    "\n",
    "    if f(a) * f(b) >= 0:  # If the signs are the same, there's no guarantee that there's a root between a and b\n",
    "        return None\n",
    "\n",
    "    while steps < max_steps:  # we keep trying until max steps\n",
    "        c = (a + b) / 2        # Find the middle point\n",
    "        fc = f(c)              # Find the function value at the middle\n",
    "\n",
    "        if abs(fc) < tolerance or abs(b - a) < tolerance:\n",
    "            return steps + 1   # If the function value or interval is very small, we have found the root\n",
    "\n",
    "        if f(a) * fc < 0:  # If root is between a and c\n",
    "            b = c          # we move b to c\n",
    "        else:              # Otherwise, root is between c and b\n",
    "            a = c          # we move a to c\n",
    "\n",
    "        steps += 1         # Increase the number of steps\n",
    "\n",
    "    return steps  # If we reach max steps, return steps\n",
    "\n",
    "# Now we will create a function to compare both methods\n",
    "def compare_methods():\n",
    "    tolerance = 0.00001  # This is how close we want to be to the real root\n",
    "    max_steps = 100      # Maximum number of steps allowed\n",
    "\n",
    "    # For Newton-Raphson, we start at x = 0\n",
    "    nr_steps = newton_raphson(f, f_prime, 0, tolerance, max_steps)\n",
    "\n",
    "    # For Bisection, we choose an interval where the function changes sign (like -1 and 1)\n",
    "    bisection_steps = bisection(f, -1, 1, tolerance, max_steps)\n",
    "\n",
    "    # Print the number of steps each method took\n",
    "    print(\"Newton-Raphson steps:\", nr_steps)\n",
    "    print(\"Bisection steps:\", bisection_steps)\n",
    "\n",
    "# We finaall the function to run everything\n",
    "compare_methods()\n"
   ]
  },
  {
   "cell_type": "code",
   "execution_count": null,
   "id": "f04ad3c0-5081-4874-a1a3-5d9a33d7b1c1",
   "metadata": {},
   "outputs": [],
   "source": []
  },
  {
   "cell_type": "code",
   "execution_count": null,
   "id": "2b135613-0dc0-4e54-bdd6-739bb922b87a",
   "metadata": {},
   "outputs": [],
   "source": []
  }
 ],
 "metadata": {
  "kernelspec": {
   "display_name": "Python [conda env:base] *",
   "language": "python",
   "name": "conda-base-py"
  },
  "language_info": {
   "codemirror_mode": {
    "name": "ipython",
    "version": 3
   },
   "file_extension": ".py",
   "mimetype": "text/x-python",
   "name": "python",
   "nbconvert_exporter": "python",
   "pygments_lexer": "ipython3",
   "version": "3.12.7"
  }
 },
 "nbformat": 4,
 "nbformat_minor": 5
}
