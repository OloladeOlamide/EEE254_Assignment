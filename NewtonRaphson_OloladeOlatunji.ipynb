{
 "cells": [
  {
   "cell_type": "code",
   "execution_count": 17,
   "id": "f8decc14-c928-4751-989f-6c91fd2773a2",
   "metadata": {},
   "outputs": [],
   "source": [
    "def newton_raphson(f, f_prime, start_x, accuracy, max_attempts): # This function represents the Newton-Raphson method\n",
    "    x = start_x\n",
    "    tries = 0\n",
    "\n",
    "    while tries < max_attempts:\n",
    "        y = f(x)\n",
    "        slope = f_prime(x)\n",
    "\n",
    "        if slope == 0:\n",
    "            print(\"The slope is zero. Can't continue.\")\n",
    "            return None\n",
    "\n",
    "        next_x = x - y / slope\n",
    "\n",
    "        # Let us check how close we are\n",
    "        if abs(next_x - x) < accuracy:\n",
    "            return next_x\n",
    "\n",
    "        x = next_x\n",
    "        tries += 1\n",
    "\n",
    "    print(\"Couldn't find the root in time.\")\n",
    "    return None\n"
   ]
  },
  {
   "cell_type": "code",
   "execution_count": 15,
   "id": "01dce5f4-8b40-4ab9-9012-ac5209d75e8f",
   "metadata": {},
   "outputs": [
    {
     "name": "stdout",
     "output_type": "stream",
     "text": [
      "Answer is: 1.4142135623746899\n"
     ]
    }
   ],
   "source": [
    "# Function: f(x) = x² - 2 (we want to find the root of this)\n",
    "def f(x):\n",
    "    return x**2 - 2\n",
    "\n",
    "# Derivative: f'(x) = 2x\n",
    "def f_prime(x):\n",
    "    return 2 * x\n",
    "\n",
    "# Try it!\n",
    "answer = newton_raphson(f, f_prime, start_x=1.0, accuracy=0.0001, max_attempts=20)\n",
    "print(\"Answer is:\", answer)\n",
    "\n"
   ]
  },
  {
   "cell_type": "code",
   "execution_count": 27,
   "id": "80d57b4c-4f66-4464-8e8a-aae1daa8f70d",
   "metadata": {},
   "outputs": [
    {
     "name": "stdout",
     "output_type": "stream",
     "text": [
      "The root is approximately: 0.2599589956221257\n"
     ]
    }
   ],
   "source": [
    "import math  # We use this to access sin, cos, and exp for the problem in script2_3\n",
    "\n",
    "# Let us define the function f(x)\n",
    "def f(x):\n",
    "    return 4 * x + math.sin(x) - math.exp(x)\n",
    "\n",
    "# Let us define the derivative f'(x)\n",
    "def f_prime(x):\n",
    "    return 4 + math.cos(x) - math.exp(x)\n",
    "\n",
    "# Using Newton-Raphson method\n",
    "def newton_raphson(f, f_prime, start_x, accuracy, max_attempts):\n",
    "    x = start_x\n",
    "    tries = 0\n",
    "\n",
    "    while tries < max_attempts:\n",
    "        y = f(x)\n",
    "        slope = f_prime(x)\n",
    "\n",
    "        if slope == 0:\n",
    "            print(\"The slope is zero. We can't go further.\")\n",
    "            return None\n",
    "\n",
    "        next_x = x - y / slope\n",
    "\n",
    "        # Let us check if we're close enough\n",
    "        if abs(next_x - x) < accuracy:\n",
    "            return next_x\n",
    "\n",
    "        x = next_x\n",
    "        tries += 1\n",
    "\n",
    "    print(\"Didn't find a root in time.\")\n",
    "    return None\n",
    "\n",
    "\n",
    "result = newton_raphson(f, f_prime, start_x=0, accuracy=0.00001, max_attempts=100)\n",
    "print(\"The root is approximately:\", result)\n"
   ]
  },
  {
   "cell_type": "code",
   "execution_count": null,
   "id": "bd5f0556-92a8-4ca8-9ee8-dbf717bf3bea",
   "metadata": {},
   "outputs": [],
   "source": []
  }
 ],
 "metadata": {
  "kernelspec": {
   "display_name": "Python [conda env:base] *",
   "language": "python",
   "name": "conda-base-py"
  },
  "language_info": {
   "codemirror_mode": {
    "name": "ipython",
    "version": 3
   },
   "file_extension": ".py",
   "mimetype": "text/x-python",
   "name": "python",
   "nbconvert_exporter": "python",
   "pygments_lexer": "ipython3",
   "version": "3.12.7"
  }
 },
 "nbformat": 4,
 "nbformat_minor": 5
}
