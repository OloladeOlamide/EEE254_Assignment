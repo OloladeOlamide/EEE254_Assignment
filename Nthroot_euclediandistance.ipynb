{
 "cells": [
  {
   "cell_type": "code",
   "execution_count": 16,
   "id": "26e235d8-85fe-4130-9625-608ad4cda55f",
   "metadata": {},
   "outputs": [
    {
     "name": "stdout",
     "output_type": "stream",
     "text": [
      "3.0\n"
     ]
    }
   ],
   "source": [
    "def find_nth_root(x,n):\n",
    "    if x<0 and n%2==0:\n",
    "     return None #the root of a negative number is impossible\n",
    "    return x**(1/n)\n",
    "print(find_nth_root(27,3)) #find the cube root of 27 whch is 3."
   ]
  },
  {
   "cell_type": "code",
   "execution_count": 26,
   "id": "ab6be378-8042-4bbf-8488-714a81d03a0a",
   "metadata": {},
   "outputs": [
    {
     "name": "stdout",
     "output_type": "stream",
     "text": [
      "4.58257569495584\n"
     ]
    }
   ],
   "source": [
    "def eucledian_distance(y1,y0):\n",
    "    return math.sqrt(((y1)**2)-((y0)**2))\n",
    "print(eucledian_distance(5,2))"
   ]
  },
  {
   "cell_type": "code",
   "execution_count": null,
   "id": "36fff07f-93b1-491a-a267-58ab7ebbc343",
   "metadata": {},
   "outputs": [],
   "source": []
  }
 ],
 "metadata": {
  "kernelspec": {
   "display_name": "Python [conda env:base] *",
   "language": "python",
   "name": "conda-base-py"
  },
  "language_info": {
   "codemirror_mode": {
    "name": "ipython",
    "version": 3
   },
   "file_extension": ".py",
   "mimetype": "text/x-python",
   "name": "python",
   "nbconvert_exporter": "python",
   "pygments_lexer": "ipython3",
   "version": "3.12.7"
  }
 },
 "nbformat": 4,
 "nbformat_minor": 5
}
