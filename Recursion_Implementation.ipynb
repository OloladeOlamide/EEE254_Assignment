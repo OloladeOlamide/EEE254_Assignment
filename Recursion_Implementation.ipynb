{
 "cells": [
  {
   "cell_type": "code",
   "execution_count": 1,
   "id": "ecb2e810-84ce-4263-a211-a6ab108ecc70",
   "metadata": {},
   "outputs": [],
   "source": [
    "def reverse_string(text):\n",
    "    # Base case: if the string is empty or just 1 letter, return it as is\n",
    "    if len(text) <= 1:\n",
    "        return text\n",
    "    else:\n",
    "        # Take the first letter off, reverse the rest, and add the first letter to the end\n",
    "        return reverse_string(text[1:]) + text[0]"
   ]
  },
  {
   "cell_type": "code",
   "execution_count": 3,
   "id": "6f6cb9d1-1c34-4e34-99f0-e231e64efc75",
   "metadata": {},
   "outputs": [
    {
     "name": "stdout",
     "output_type": "stream",
     "text": [
      "EDALOL\n",
      "iccanobiF\n"
     ]
    }
   ],
   "source": [
    "print(reverse_string(\"LOLADE\"))\n",
    "print(reverse_string(\"Fibonacci\"))"
   ]
  },
  {
   "cell_type": "code",
   "execution_count": null,
   "id": "6fcddc20-979b-44a6-afc0-196362d67710",
   "metadata": {},
   "outputs": [],
   "source": []
  }
 ],
 "metadata": {
  "kernelspec": {
   "display_name": "Python [conda env:base] *",
   "language": "python",
   "name": "conda-base-py"
  },
  "language_info": {
   "codemirror_mode": {
    "name": "ipython",
    "version": 3
   },
   "file_extension": ".py",
   "mimetype": "text/x-python",
   "name": "python",
   "nbconvert_exporter": "python",
   "pygments_lexer": "ipython3",
   "version": "3.12.7"
  }
 },
 "nbformat": 4,
 "nbformat_minor": 5
}
