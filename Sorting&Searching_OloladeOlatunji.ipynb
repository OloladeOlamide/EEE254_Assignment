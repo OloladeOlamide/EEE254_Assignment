{
 "cells": [
  {
   "cell_type": "code",
   "execution_count": 1,
   "id": "ffafaa27-5245-4e00-84c0-aec3a8d0642d",
   "metadata": {},
   "outputs": [
    {
     "name": "stdout",
     "output_type": "stream",
     "text": [
      "Found at: 3\n"
     ]
    }
   ],
   "source": [
    "def search_linear(numbers, target):\n",
    "    position = 0\n",
    "    while position < len(numbers):\n",
    "        if numbers[position] == target:\n",
    "            return position\n",
    "        position = position + 1\n",
    "    return -1  # If not found\n",
    "\n",
    "# Try it\n",
    "my_list = [4, 9, 2, 7, 5]\n",
    "print(\"Found at:\", search_linear(my_list, 7))\n"
   ]
  },
  {
   "cell_type": "code",
   "execution_count": 3,
   "id": "4d94522a-817a-490c-94f5-0492d57fbf82",
   "metadata": {},
   "outputs": [
    {
     "name": "stdout",
     "output_type": "stream",
     "text": [
      "Found at: 3\n"
     ]
    }
   ],
   "source": [
    "def search_binary(sorted_list, target):\n",
    "    start = 0\n",
    "    end = len(sorted_list) - 1\n",
    "\n",
    "    while start <= end:\n",
    "        middle = (start + end) // 2\n",
    "        if sorted_list[middle] == target:\n",
    "            return middle\n",
    "        elif sorted_list[middle] < target:\n",
    "            start = middle + 1\n",
    "        else:\n",
    "            end = middle - 1\n",
    "    return -1\n",
    "\n",
    "# Try it (make sure list is sorted)\n",
    "my_numbers = [1, 3, 5, 7, 9, 11]\n",
    "print(\"Found at:\", search_binary(my_numbers, 7))\n"
   ]
  },
  {
   "cell_type": "code",
   "execution_count": 5,
   "id": "5715241f-0a10-4b99-8995-3f198d2368a1",
   "metadata": {},
   "outputs": [
    {
     "name": "stdout",
     "output_type": "stream",
     "text": [
      "Sorted: [1, 2, 4, 7, 9]\n"
     ]
    }
   ],
   "source": [
    "def sort_bubble(items):\n",
    "    length = len(items)\n",
    "    for outer in range(length):\n",
    "        for inner in range(length - 1):\n",
    "            if items[inner] > items[inner + 1]:\n",
    "                temp = items[inner]\n",
    "                items[inner] = items[inner + 1]\n",
    "                items[inner + 1] = temp\n",
    "    return items\n",
    "\n",
    "# Try it\n",
    "unsorted_data = [9, 4, 7, 2, 1]\n",
    "print(\"Sorted:\", sort_bubble(unsorted_data))\n"
   ]
  },
  {
   "cell_type": "code",
   "execution_count": 7,
   "id": "c77aa1bf-43ce-49df-99bb-3b20271c2011",
   "metadata": {},
   "outputs": [
    {
     "name": "stdout",
     "output_type": "stream",
     "text": [
      "Sorted: [2, 3, 5, 8, 9]\n"
     ]
    }
   ],
   "source": [
    "def sort_insertion(data):\n",
    "    for position in range(1, len(data)):\n",
    "        current = data[position]\n",
    "        index = position - 1\n",
    "\n",
    "        while index >= 0 and data[index] > current:\n",
    "            data[index + 1] = data[index]\n",
    "            index = index - 1\n",
    "\n",
    "        data[index + 1] = current\n",
    "    return data\n",
    "\n",
    "# Try it\n",
    "items = [8, 3, 5, 2, 9]\n",
    "print(\"Sorted:\", sort_insertion(items))\n"
   ]
  },
  {
   "cell_type": "code",
   "execution_count": 9,
   "id": "33d10e93-24a0-4b30-9fd0-e0afb3ccb04b",
   "metadata": {},
   "outputs": [
    {
     "name": "stdout",
     "output_type": "stream",
     "text": [
      "Sorted: [2, 3, 4, 6, 8, 9]\n"
     ]
    }
   ],
   "source": [
    "def sort_merge(numbers):\n",
    "    if len(numbers) <= 1:\n",
    "        return numbers\n",
    "\n",
    "    middle = len(numbers) // 2\n",
    "    left = sort_merge(numbers[:middle])\n",
    "    right = sort_merge(numbers[middle:])\n",
    "\n",
    "    return join_lists(left, right)\n",
    "\n",
    "def join_lists(a, b):\n",
    "    result = []\n",
    "    i = 0\n",
    "    j = 0\n",
    "\n",
    "    while i < len(a) and j < len(b):\n",
    "        if a[i] < b[j]:\n",
    "            result.append(a[i])\n",
    "            i += 1\n",
    "        else:\n",
    "            result.append(b[j])\n",
    "            j += 1\n",
    "\n",
    "    while i < len(a):\n",
    "        result.append(a[i])\n",
    "        i += 1\n",
    "    while j < len(b):\n",
    "        result.append(b[j])\n",
    "        j += 1\n",
    "\n",
    "    return result\n",
    "\n",
    "# Try it\n",
    "big_list = [6, 4, 9, 3, 2, 8]\n",
    "print(\"Sorted:\", sort_merge(big_list))\n"
   ]
  },
  {
   "cell_type": "code",
   "execution_count": 11,
   "id": "45bfe181-d853-4742-b003-438ec624e5ef",
   "metadata": {},
   "outputs": [
    {
     "name": "stdout",
     "output_type": "stream",
     "text": [
      "Sorted: [1, 3, 7, 9, 10]\n"
     ]
    }
   ],
   "source": [
    "def sort_quick(my_list):\n",
    "    if len(my_list) <= 1:\n",
    "        return my_list\n",
    "\n",
    "    base = my_list[0]\n",
    "    smaller = []\n",
    "    bigger = []\n",
    "\n",
    "    for i in range(1, len(my_list)):\n",
    "        if my_list[i] < base:\n",
    "            smaller.append(my_list[i])\n",
    "        else:\n",
    "            bigger.append(my_list[i])\n",
    "\n",
    "    return sort_quick(smaller) + [base] + sort_quick(bigger)\n",
    "\n",
    "# Try it\n",
    "test_data = [10, 3, 7, 1, 9]\n",
    "print(\"Sorted:\", sort_quick(test_data))\n"
   ]
  },
  {
   "cell_type": "code",
   "execution_count": 13,
   "id": "929bb908-19d4-4d2a-a5d3-dbf646dd6bf8",
   "metadata": {},
   "outputs": [
    {
     "name": "stdout",
     "output_type": "stream",
     "text": [
      "[0, 2, 2, 3, 3, 5, 5, 5, 6, 7, 7, 9, 11, 11, 12, 12, 15, 16, 17, 18]\n"
     ]
    }
   ],
   "source": [
    "import random\n",
    "\n",
    "sensor_data = [random.randint(0, 1000) for _ in range(1000)]\n",
    "sorted_data = sort_bubble(sensor_data.copy())  # Or try sort_quick, etc.\n",
    "print(sorted_data[:20])  # Print just the first 20 to check\n"
   ]
  },
  {
   "cell_type": "code",
   "execution_count": null,
   "id": "60926bcf-a981-4cde-9e82-5f107c628500",
   "metadata": {},
   "outputs": [],
   "source": []
  }
 ],
 "metadata": {
  "kernelspec": {
   "display_name": "Python [conda env:base] *",
   "language": "python",
   "name": "conda-base-py"
  },
  "language_info": {
   "codemirror_mode": {
    "name": "ipython",
    "version": 3
   },
   "file_extension": ".py",
   "mimetype": "text/x-python",
   "name": "python",
   "nbconvert_exporter": "python",
   "pygments_lexer": "ipython3",
   "version": "3.12.7"
  }
 },
 "nbformat": 4,
 "nbformat_minor": 5
}
