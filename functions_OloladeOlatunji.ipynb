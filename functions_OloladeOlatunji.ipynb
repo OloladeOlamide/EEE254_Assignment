{
 "cells": [
  {
   "cell_type": "code",
   "execution_count": 24,
   "id": "8105fb6f-28bb-45ad-949d-417317e9c295",
   "metadata": {},
   "outputs": [
    {
     "name": "stdout",
     "output_type": "stream",
     "text": [
      "Sum of square root of 25 and cube root of -8 is close to 3.00030517578125\n"
     ]
    }
   ],
   "source": [
    "x1 = 25 # The number we want to find the square root of\n",
    "epsilon = 0.01 # how close the answer should be\n",
    "#we want to find the cube root of x1 by using bisection search method\n",
    "if x1 < 0 :\n",
    "    print(\"Does not exist\") # The square root of a negative number does not exist\n",
    "else:\n",
    "    low = 0 # a low guess of 0\n",
    "    high = max(1,x1) # high is either 1 or x1, which is bigger in this case\n",
    "    ans = (high+low)/2 # finds the average of the high and low\n",
    "    while abs(ans**2-x1) >= epsilon: # The loop runs until the absolute diff is less than epsilon i.e closer to zero than epsilon\n",
    "        if ans**2 < x1 :# if ans**2 is less than the square number then the value lies between ans and the current high. therefore low is set to ans\n",
    "            low = ans\n",
    "        else:\n",
    "            high = ans#  high is set to ans\n",
    "        ans=(high+low)/2 # finds the average of the high and low and sets it as the value of ans\n",
    "x1_root = ans # Final answer is saved here\n",
    "\n",
    "x2 = -8 #we want to find the cube root of -8 using bisection method\n",
    "if x2 <0 :\n",
    "    is_pos = False #If x2 is less than 0 then is_pos is false\n",
    "else:\n",
    "    is_pos = True #otherwise, is_pos is true\n",
    "low = 0 #set low to zero\n",
    "high = max(1,x2)#set high to the maximum between 1 and the given cube num which is 8 in this case\n",
    "ans = (high+low)/2 # ans is the average of the high and low\n",
    "while abs(ans**3 - x2) >= epsilon : # The loop runs again but this time for the cube roots\n",
    "    if ans**3 < x2 : # if ans**3 is less than the cube number then low is set to ans\n",
    "        low = ans\n",
    "    else:\n",
    "        high = ans # if ans**3 is greater than the cube number then the value lies between ans and the current low. therefore high is set to ans\n",
    "    ans = (high + low)/2 # update ans\n",
    "if is_pos: #No changes needed in sign\n",
    "    x2_root = ans\n",
    "else: # Negate the final ans since the cube root of a negative number is negative\n",
    "    x2_root = -ans\n",
    "    x2 = -x2\n",
    "\"\"\" We are also going to sum up all we have been doing i.e we are going to find the sum of the square root and the cube root\n",
    "\"\"\"\n",
    "print(\"Sum of square root of\",x1, \"and cube root of\", x2, \"is close to\" ,x1_root + x2_root)\n",
    "     "
   ]
  },
  {
   "cell_type": "code",
   "execution_count": 6,
   "id": "2c4cdf30-8603-4dfc-a5e1-62a38471adff",
   "metadata": {},
   "outputs": [],
   "source": [
    "def find_root(x, power, epsilon):\n",
    "    # figures out the square rootorcube root,\n",
    "    # find interval containing answer\n",
    "    if x < 0 and power % 2 == 0:\n",
    "        return None  # Negative number has no even-powered roots\n",
    "    low = min(-1, x)#low is the smallest value bebtween -1 and x\n",
    "    high = max(1, x)#high is the largest value between 1 and x\n",
    "    # use bisection search\n",
    "    ans = (high + low) / 2#ans is the average of high and low\n",
    "    while abs(ans**power - x) >= epsilon: #loops through while the difference between ans squared and x1 is big enough\n",
    "        if ans**power < x:#if ans squared is less than x, x is set as low\n",
    "            low = ans#set low to ans\n",
    "        else:\n",
    "            high = ans #otherwise, ans is set as high\n",
    "        ans = (high + low) / 2 #new ans is the average of the high and low\n",
    "    return ans\n",
    "\n",
    "\n",
    "def test_find_root(x_vals, powers, epsilons):  \n",
    "    for x in x_vals: #loops through all the x values\n",
    "        for p in powers: #loops through all powers\n",
    "            for e in epsilons: #loops through epsilons\n",
    "                result = find_root(x, p, e)\n",
    "                if result == None:\n",
    "                    val = 'No root exists' #prints 'No root exists' if the result is None\n",
    "                else:\n",
    "                    val = 'Okay'  #prints 'Okay' if the result is right\n",
    "                    if abs(result**p - x) > e:\n",
    "                        val = 'Bad'  #prints 'Bad' if the result is not right\n",
    "                print(f'x = {x}, power = {p}, epsilon = {e}: {val}')\n"
   ]
  },
  {
   "cell_type": "code",
   "execution_count": 8,
   "id": "ea24befe-f291-4231-9237-83251803ca40",
   "metadata": {},
   "outputs": [
    {
     "name": "stdout",
     "output_type": "stream",
     "text": [
      "x = 0.25, power = 1, epsilon = 0.1: Okay\n",
      "x = 0.25, power = 1, epsilon = 0.001: Okay\n",
      "x = 0.25, power = 1, epsilon = 1: Okay\n",
      "x = 0.25, power = 2, epsilon = 0.1: Okay\n",
      "x = 0.25, power = 2, epsilon = 0.001: Okay\n",
      "x = 0.25, power = 2, epsilon = 1: Okay\n",
      "x = 0.25, power = 3, epsilon = 0.1: Okay\n",
      "x = 0.25, power = 3, epsilon = 0.001: Okay\n",
      "x = 0.25, power = 3, epsilon = 1: Okay\n",
      "x = 8, power = 1, epsilon = 0.1: Okay\n",
      "x = 8, power = 1, epsilon = 0.001: Okay\n",
      "x = 8, power = 1, epsilon = 1: Okay\n",
      "x = 8, power = 2, epsilon = 0.1: Okay\n",
      "x = 8, power = 2, epsilon = 0.001: Okay\n",
      "x = 8, power = 2, epsilon = 1: Okay\n",
      "x = 8, power = 3, epsilon = 0.1: Okay\n",
      "x = 8, power = 3, epsilon = 0.001: Okay\n",
      "x = 8, power = 3, epsilon = 1: Okay\n",
      "x = -8, power = 1, epsilon = 0.1: Okay\n",
      "x = -8, power = 1, epsilon = 0.001: Okay\n",
      "x = -8, power = 1, epsilon = 1: Okay\n",
      "x = -8, power = 2, epsilon = 0.1: No root exists\n",
      "x = -8, power = 2, epsilon = 0.001: No root exists\n",
      "x = -8, power = 2, epsilon = 1: No root exists\n",
      "x = -8, power = 3, epsilon = 0.1: Okay\n",
      "x = -8, power = 3, epsilon = 0.001: Okay\n",
      "x = -8, power = 3, epsilon = 1: Okay\n"
     ]
    }
   ],
   "source": [
    "x_vals= (0.25, 8, -8)\n",
    "powers= (1,2,3)\n",
    "epsilons= (0.1, 0.001, 1)\n",
    "test_find_root(x_vals, powers, epsilons)\n",
    "     "
   ]
  },
  {
   "cell_type": "code",
   "execution_count": 12,
   "id": "206c1405-6f14-45d2-9bfd-f660e401d77d",
   "metadata": {},
   "outputs": [],
   "source": [
    "# # Figure 4-7\n",
    "def find_root(x, power, epsilon):\n",
    "    ## Assumes x and epsilon int or float, power an int,\n",
    "    ## epsilon > 0 & power >= 1\n",
    "    # Returns float y such that y**power is within epsilon of x.\n",
    "    # If such a float does not exist, it returns None\n",
    "    # find interval containing answer\n",
    "    if x < 0 and power % 2 == 0:\n",
    "        return None\n",
    "    low = min(-1, x)\n",
    "    high = max(1, x)\n",
    "    # use bisection search\n",
    "    ans = (high + low) / 2\n",
    "    while abs(ans**power - x) >= epsilon: #\n",
    "        if ans**power < x: #\n",
    "            low = ans\n",
    "        else:\n",
    "            high = ans\n",
    "        ans = (high + low) / 2 #\n",
    "    return ans #"
   ]
  },
  {
   "cell_type": "code",
   "execution_count": 14,
   "id": "cf10fdb7-c044-4b03-90c4-0e08f46184d2",
   "metadata": {},
   "outputs": [
    {
     "name": "stdout",
     "output_type": "stream",
     "text": [
      "4.9999237060546875 -1.9999542236328125 1.9343223571777344\n"
     ]
    }
   ],
   "source": [
    "# Code to test function in Figure 4-7\n",
    "e = 0.001\n",
    "print(find_root(25, 2, e), find_root(-8, 3, e), find_root(14, 4, e))\n"
   ]
  },
  {
   "cell_type": "code",
   "execution_count": 16,
   "id": "2e6d943e-af6f-4db1-9eff-66b6bb3b92f4",
   "metadata": {},
   "outputs": [],
   "source": [
    "from re import A\n",
    "def find_root_bounds(x, power):  #creates a function that finds the starting guess for the root of a number.\n",
    "  \"\"\"x is a float, power is a pos int\n",
    "    return low, high such that low**power <=x and high**power >= x\"\"\"\n",
    "  low= min(-1, x)  # sets the low to either -1 or x\n",
    "  high= max(1, x)  #sets the high to either 1 or x\n",
    "  return low, high  #tells what range to work within\n",
    "\n",
    "def bisection_solve(x, power, epsilon, low, high):\n",
    "  \"\"\"x, epsilon, low, high are floats,\n",
    "    epsilon > 0\n",
    "    low<= high and there is an ans between low and high s.t\n",
    "    ans**power is within epsilon of x\n",
    "    return ans s.t. ans** power within epsilon of x\"\"\"\n",
    "  ans = (high+low)/2  #finds the average of high and low\n",
    "  while abs(ans**power -  x)>= epsilon:\n",
    "    if ans**power< x:  # checks if the ans is too small\n",
    "      low= ans  #sets low to ans\n",
    "    else:\n",
    "      high= ans#sets high to ans\n",
    "    ans= (high+low)/2#finds the average of high and low\n",
    "  return ans#returns the ans value whenever it is called\n",
    "\n",
    "def find_root(x, power, epsilon): #finds the root of x using the bisection method\n",
    "  \"\"\"Assumes  x and epsilon int or float, power an inr,\n",
    "  epsilon>0 7 power >=1\n",
    "  Returns float y such rhat y**power is within epsion of x.\n",
    "  If such a float does not exist, it returns None\"\"\"\n",
    "  if x<0 and power%2==0:#if x is negative and the power is an even number, returns None\n",
    "    return None \n",
    "  low, high= find_root_bounds(x, power)  #finds the high and low values in the range of x and the power\n",
    "  return bisection_solve(x, power, epsilon, low, high)  #finds the root using the bisection method and returns the value\n",
    "     "
   ]
  },
  {
   "cell_type": "code",
   "execution_count": 18,
   "id": "74dcc412-e79e-41cf-9535-4b27c99024bc",
   "metadata": {},
   "outputs": [],
   "source": [
    "def fact_iter(n):#finds the factorial of n\n",
    "  \"\"\"Assumes n is an it > 0\n",
    "    Retuens n!\"\"\"\n",
    "  result=1\n",
    "  for i in range(1, n+1): #loops through while calculating the factorial \n",
    "    result *= i\n",
    "  return result #returns the result within the range\n",
    "\n",
    "# recursive way\n",
    "def fact_rec(n):\n",
    "  \"\"\"Assumes n is an int > 0\n",
    "  Returns n!\"\"\"\n",
    "  if n ==1:\n",
    "    return n #\n",
    "  else:\n",
    "    return n*fact_rec(n-1) #"
   ]
  },
  {
   "cell_type": "code",
   "execution_count": 20,
   "id": "c707fb81-ce1d-46bd-a4a5-8d2778e823a2",
   "metadata": {},
   "outputs": [
    {
     "name": "stdout",
     "output_type": "stream",
     "text": [
      "fib of 0 = 1\n",
      "fib of 1 = 1\n",
      "fib of 2 = 2\n",
      "fib of 3 = 3\n",
      "fib of 4 = 5\n",
      "fib of 5 = 8\n",
      "fib of 6 = 13\n",
      "fib of 7 = 21\n",
      "fib of 8 = 34\n",
      "fib of 9 = 55\n",
      "fib of 10 = 89\n",
      "fib of 11 = 144\n",
      "fib of 12 = 233\n",
      "fib of 13 = 377\n",
      "fib of 14 = 610\n"
     ]
    }
   ],
   "source": [
    "def fib(n): #finds the fibonacci number at position n\n",
    "  \"\"\"Assumes n is an int >= 0\n",
    "  Returns Fibonacci of n\"\"\"\n",
    "  if n==0 or n==1: #returns 1 when n is 0 or 1\n",
    "    return 1\n",
    "  else:\n",
    "    return fib(n-1)+fib(n-2) #otherwise, return the sum of the 2 previous fibonacci numbers\n",
    "\n",
    "def test_fib(n):#loops through from 0 to n\n",
    "  for i in range(n+1):\n",
    "    print('fib of', i, '=', fib(i)) #for each value of i, it prints the fibonacci number at that position\n",
    "\n",
    "test_fib(14)#test value for the running of the code"
   ]
  },
  {
   "cell_type": "code",
   "execution_count": 22,
   "id": "1203dcc3-2dcb-480e-91f3-7b6173de3d3c",
   "metadata": {},
   "outputs": [
    {
     "name": "stdout",
     "output_type": "stream",
     "text": [
      "True\n",
      "False\n"
     ]
    }
   ],
   "source": [
    "def is_palindrome(s): #this function checks if a word or phrase reads exactly the same backwards as it reads forward\n",
    "  \"\"\"Assumes s is a str\n",
    "  Returns True if the letters in s form a palindrome; False if oherwise. Non-letters and capitalization are ignored\"\"\"\n",
    "  def to_chars(s): #this changes the string to lowercase characters\n",
    "    s= s.lower()#changes the characters of the string 's' to lowercase\n",
    "    letters= '' #creates an empty string called letters\n",
    "    for c in s: #\n",
    "      if c in \"abcdefghijklmnopqrstuvwxyz\": #checks if 'c' is a letter\n",
    "        letters= letters+c #if 'c' is a letter, it is added to the string 's'\n",
    "    return letters #returns the characters of the string called letters\n",
    "  def is_pal(s): #checks if the string s is a palindrome.\n",
    "    if len(s)<=1: #if the length of the string is less than or eual to 1, return true.\n",
    "      return True\n",
    "    else:#if the string has more than 1 characters\n",
    "      return s[0]==s[-1] and is_pal(s[1:-1]) #checks if the first character of the string is  the same with the last character of the string.\n",
    "\n",
    "  return is_pal(to_chars(s)) #changes all the characters to lowercase and removes nonletter characters while checking if the string is a palindrome\n",
    "\n",
    "\n",
    "print(is_palindrome('Able was I, ere I saw Elba')) #prints true as the phrase is a palindrome\n",
    "print(is_palindrome('Able was I, ere I saw Atlanta')) #prints false as it is not a palindrome"
   ]
  },
  {
   "cell_type": "code",
   "execution_count": null,
   "id": "c6e249b9-9269-403a-ad44-fd04c7c5c159",
   "metadata": {},
   "outputs": [],
   "source": []
  }
 ],
 "metadata": {
  "kernelspec": {
   "display_name": "Python [conda env:base] *",
   "language": "python",
   "name": "conda-base-py"
  },
  "language_info": {
   "codemirror_mode": {
    "name": "ipython",
    "version": 3
   },
   "file_extension": ".py",
   "mimetype": "text/x-python",
   "name": "python",
   "nbconvert_exporter": "python",
   "pygments_lexer": "ipython3",
   "version": "3.12.7"
  }
 },
 "nbformat": 4,
 "nbformat_minor": 5
}
